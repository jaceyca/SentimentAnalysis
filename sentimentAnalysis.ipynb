{
 "cells": [
  {
   "cell_type": "code",
   "execution_count": 95,
   "metadata": {},
   "outputs": [],
   "source": [
    "import numpy as np\n",
    "# import os\n",
    "import pathlib\n",
    "from datetime import datetime\n",
    "from sklearn.linear_model import SGDClassifier\n",
    "from sklearn import tree\n",
    "from sklearn.ensemble import RandomForestClassifier"
   ]
  },
  {
   "cell_type": "code",
   "execution_count": 96,
   "metadata": {},
   "outputs": [],
   "source": [
    "def load_data(filename, train=True):\n",
    "    \"\"\"\n",
    "    Function loads data stored in the file filename and returns it as a numpy ndarray.\n",
    "    \n",
    "    Inputs:\n",
    "        filename: given as a string.\n",
    "        \n",
    "    Outputs:\n",
    "        Data contained in the file, returned as a numpy ndarray\n",
    "    \"\"\"\n",
    "    X = []\n",
    "    y = []\n",
    "    with open(filename) as f:\n",
    "        for line in f:\n",
    "            if (train):\n",
    "                # remove \\n, split on space, separate into label and weights\n",
    "                X.append(line.strip().split(' ')[1:])\n",
    "                y.append(line.strip().split(' ')[0])\n",
    "            else:\n",
    "                X.append(line.strip().split(' '))\n",
    "                \n",
    "    # convert to np, cast to int, and remove the headers\n",
    "    X = np.asarray(X[1:]).astype(int)\n",
    "    if (train):\n",
    "        y = np.asarray(y[1:]).astype(int)\n",
    "        \n",
    "    return X, y"
   ]
  },
  {
   "cell_type": "code",
   "execution_count": 97,
   "metadata": {},
   "outputs": [],
   "source": [
    "def make_predictions(clf, X, y, test):\n",
    "    clf.fit(X, y)\n",
    "    predictions = clf.predict(test)\n",
    "    \n",
    "    return predictions"
   ]
  },
  {
   "cell_type": "code",
   "execution_count": 98,
   "metadata": {},
   "outputs": [],
   "source": [
    "def save_data(data, filename=\"%s.txt\" % datetime.today().strftime(\"%X\").replace(\":\", \"\")):\n",
    "    pathlib.Path('submissions').mkdir(parents=True, exist_ok=True)\n",
    "    with open(\"submissions\\\\%s\" % filename, \"w\") as f:\n",
    "        f.write(\"Id,Prediction\\n\")\n",
    "        for Id, prediction in enumerate(data, 1):\n",
    "            string = str(Id) + ',' + str(prediction) + '\\n'\n",
    "            f.write(string)\n",
    "        "
   ]
  },
  {
   "cell_type": "code",
   "execution_count": null,
   "metadata": {},
   "outputs": [],
   "source": [
    "def eval_tree_based_model_max_depth(clf, max_depth, X_train, y_train, X_test, y_test):\n",
    "    \"\"\"\n",
    "    This function evaluates the given classifier (either a decision tree or random forest) at all of the \n",
    "    maximum tree depth parameters in the vector max_depth, using the given training and testing\n",
    "    data. It returns two vector, with the training and testing classification errors.\n",
    "    \n",
    "    Inputs:\n",
    "        clf: either a decision tree or random forest classifier object\n",
    "        max_depth: a (T, ) vector of all the max_depth stopping condition parameters \n",
    "                            to test, where T is the number of parameters to test\n",
    "        X_train: (N, D) matrix of training samples.\n",
    "        y_train: (N, ) vector of training labels.\n",
    "        X_test: (N, D) matrix of test samples\n",
    "        y_test: (N, ) vector of test labels\n",
    "    Output:\n",
    "        train_err: (T, ) vector of classification errors on the training data\n",
    "        test_err: (T, ) vector of classification errors on the test data\n",
    "    \"\"\"\n",
    "   \n",
    "    train_err = []\n",
    "    test_err = []\n",
    "    \n",
    "    for i in range(len(max_depth)):\n",
    "        clf.max_depth = max_depth[i]\n",
    "        clf.fit(X_train, y_train)\n",
    "        train = classification_err(clf.predict(X_train), y_train)\n",
    "        test = classification_err(clf.predict(X_test), y_test)\n",
    "        train_err.append(train)\n",
    "        test_err.append(test)\n",
    "\n",
    "    return train_err, test_err"
   ]
  },
  {
   "cell_type": "code",
   "execution_count": 99,
   "metadata": {
    "scrolled": true
   },
   "outputs": [],
   "source": [
    "def main():\n",
    "    # load the data\n",
    "    X_train, y_train = load_data(\"training_data.txt\")\n",
    "    X_test, _ = load_data(\"test_data.txt\", False)\n",
    "    # clf = SGDClassifier(loss=\"log\", penalty=\"l2\")\n",
    "    clf = RandomForestClassifier(n_estimators=5000, criterion = 'gini')\n",
    "    predictions = make_predictions(clf, X_train, y_train, X_test)\n",
    "    \n",
    "    # save to a file\n",
    "    save_data(predictions)\n"
   ]
  },
  {
   "cell_type": "code",
   "execution_count": 100,
   "metadata": {},
   "outputs": [],
   "source": [
    "if __name__ == \"__main__\":\n",
    "    main()"
   ]
  }
 ],
 "metadata": {
  "kernelspec": {
   "display_name": "Python 3",
   "language": "python",
   "name": "python3"
  },
  "language_info": {
   "codemirror_mode": {
    "name": "ipython",
    "version": 3
   },
   "file_extension": ".py",
   "mimetype": "text/x-python",
   "name": "python",
   "nbconvert_exporter": "python",
   "pygments_lexer": "ipython3",
   "version": "3.6.4"
  }
 },
 "nbformat": 4,
 "nbformat_minor": 2
}
