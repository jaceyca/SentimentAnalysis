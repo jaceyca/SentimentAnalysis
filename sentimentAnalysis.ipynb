{
 "cells": [
  {
   "cell_type": "code",
   "execution_count": 89,
   "metadata": {},
   "outputs": [],
   "source": [
    "import numpy as np\n",
    "import pathlib\n",
    "from datetime import datetime\n",
    "\n",
    "# classifiers\n",
    "from sklearn.ensemble import AdaBoostClassifier, GradientBoostingClassifier, ExtraTreesClassifier, RandomForestClassifier\n",
    "from sklearn.linear_model import LogisticRegression, PassiveAggressiveClassifier, RidgeClassifier, SGDClassifier\n",
    "from sklearn.neighbors import KNeighborsClassifier\n",
    "from sklearn.neural_network import BernoulliRBM, MLPClassifier\n",
    "from sklearn.naive_bayes import GaussianNB\n",
    "from sklearn.tree import DecisionTreeClassifier\n",
    "\n",
    "from sklearn.model_selection import ShuffleSplit\n",
    "from sklearn.preprocessing import Normalizer\n",
    "from sklearn.pipeline import Pipeline\n",
    "import matplotlib.pyplot as plt"
   ]
  },
  {
   "cell_type": "code",
   "execution_count": 109,
   "metadata": {},
   "outputs": [],
   "source": [
    "def load_data(filename, train=True):\n",
    "    \"\"\"\n",
    "    Function loads data stored in the file filename and returns it as a numpy ndarray.\n",
    "    \n",
    "    Inputs:\n",
    "        filename: given as a string\n",
    "        (optional) train: used to determine whether this is the training or test set\n",
    "        \n",
    "    Outputs:\n",
    "        Data contained in the file, returned as a numpy ndarray\n",
    "    \"\"\"\n",
    "    X = []\n",
    "    y = []\n",
    "    with open(filename) as f:\n",
    "        for line in f:\n",
    "            if (train):\n",
    "                # remove \\n, split on space, separate into label and weights\n",
    "                X.append(line.strip().split(' ')[1:])\n",
    "                y.append(line.strip().split(' ')[0])\n",
    "            else:\n",
    "                X.append(line.strip().split(' '))\n",
    "                \n",
    "    # convert to np, cast to int, and remove the headers\n",
    "    X = np.asarray(X[1:]).astype(int)\n",
    "    if (train):\n",
    "        y = np.asarray(y[1:]).astype(int)\n",
    "        \n",
    "    return X, y"
   ]
  },
  {
   "cell_type": "code",
   "execution_count": 4,
   "metadata": {},
   "outputs": [],
   "source": [
    "def split_data(x_train, y_train):\n",
    "    '''\n",
    "    Function for cross validiation. \n",
    "    \n",
    "    Inputs: \n",
    "        x_train: training data points\n",
    "        y_train: training labels\n",
    "        \n",
    "    Outputs:\n",
    "        trainX: randomized 4/5 of given data points\n",
    "        trainY: corresponding labels\n",
    "        testX: randomized 1/5 of given data points\n",
    "        testY: corresponding lables\n",
    "    '''\n",
    "    dataSplit = ShuffleSplit(n_splits = 1, test_size = 0.2)\n",
    "    for train, test in dataSplit.split(x_train, y_train):\n",
    "        return x_train[train], y_train[train], x_train[test], y_train[test] \n",
    "       "
   ]
  },
  {
   "cell_type": "code",
   "execution_count": 5,
   "metadata": {},
   "outputs": [],
   "source": [
    "def normalization(X_train, X_test):\n",
    "    '''\n",
    "    Function to normalize training and test data\n",
    "\n",
    "    Inputs:\n",
    "        X_train: training set data points\n",
    "        X_test: test set data points\n",
    "\n",
    "    Outputs:\n",
    "        train_norm: normalized training set data points\n",
    "        test_norm: normalized test set data points\n",
    "    '''\n",
    "    normalizer = Normalizer().fit(X_train)\n",
    "    train_norm = normalizer.transform(X_train)\n",
    "    test_norm = normalizer.transform(X_test)\n",
    "\n",
    "    return (train_norm, test_norm)"
   ]
  },
  {
   "cell_type": "code",
   "execution_count": 114,
   "metadata": {},
   "outputs": [],
   "source": [
    "# load the data\n",
    "X_train, y_train = load_data(\"training_data.txt\")\n",
    "X_test, _ = load_data(\"test_data.txt\", False)\n",
    "\n",
    "# normalize training and test data\n",
    "X_train_n, X_test_n = normalization(X_train, X_test)    \n",
    "\n",
    "# split the data in to training and testing so we can test ourselves\n",
    "trainX, trainY, testX, testY = split_data(X_train_n, y_train)"
   ]
  },
  {
   "cell_type": "code",
   "execution_count": 7,
   "metadata": {},
   "outputs": [],
   "source": [
    "def make_predictions(clf, X, y, test):\n",
    "    '''\n",
    "    Function to train and test our classifier\n",
    "    \n",
    "    Inputs:\n",
    "        clf: classifier\n",
    "        X: data points\n",
    "        y: labels\n",
    "        test: test set\n",
    "    \n",
    "    Outputs:\n",
    "        predictions: predictions from running the clf on the test set\n",
    "    '''\n",
    "    clf.fit(X, y)\n",
    "    predictions = clf.predict(test)\n",
    "    predictions = predictions.astype(int)\n",
    "    \n",
    "    return predictions"
   ]
  },
  {
   "cell_type": "code",
   "execution_count": 103,
   "metadata": {},
   "outputs": [],
   "source": [
    "def save_data(data, filename=\"%s.txt\" % datetime.today().strftime(\"%X\").replace(\":\", \"\")):\n",
    "    '''\n",
    "    Function to save the predictions by the classifier\n",
    "    \n",
    "    Inputs: predictions, (optional) filename\n",
    "        If filename isn't specified, then it just uses the current time\n",
    "    \n",
    "    Outputs: Does not return anything\n",
    "        Writes the submisssion to a textfile that should have the same format as the sample_submission.txt\n",
    "    '''\n",
    "    \n",
    "    # Creates a new submissions folder if one doesn't exist\n",
    "    pathlib.Path('submissions').mkdir(parents=True, exist_ok=True)\n",
    "    with open(\"submissions\\\\%s\" % filename, \"w\") as f:\n",
    "        f.write(\"Id,Prediction\\n\")\n",
    "        for Id, prediction in enumerate(data, 1):\n",
    "            string = str(Id) + ',' + str(prediction) + '\\n'\n",
    "            f.write(string)\n",
    "        "
   ]
  },
  {
   "cell_type": "code",
   "execution_count": 9,
   "metadata": {},
   "outputs": [],
   "source": [
    "def plot_learning_curve(train_errors, validation_errors, vary_param, param_label):\n",
    "    '''\n",
    "    Function to plot learning curve for different degrees of regularization\n",
    "\n",
    "    Inputs:\n",
    "        train_errors: array of training errors corresponding to various reg_params\n",
    "        validation_errors: array of validation erros corresponding to various reg_params\n",
    "        vary_params: array of various values of the varied parameter\n",
    "        param_label: string input for regularization parameter being varied, e.g. alpha, learning rate\n",
    "    '''\n",
    "    plt.figure()\n",
    "    plt.plot(vary_param, train_errors, c = 'green', label='Training Error')\n",
    "    plt.plot(vary_param, validation_errors, c = 'red', label='Validation Error')\n",
    "    plt.scatter(vary_param, train_errors, c = 'green')\n",
    "    plt.scatter(vary_param, validation_errors, c = 'red')\n",
    "    plt.xlabel(param_label)\n",
    "    plt.ylabel('Error')\n",
    "    plt.legend()\n",
    "    plt.show()"
   ]
  },
  {
   "cell_type": "code",
   "execution_count": 10,
   "metadata": {},
   "outputs": [],
   "source": [
    "def vary_alphas(clf, xTrain, yTrain, xTest, yTest, alphas):\n",
    "    '''\n",
    "    Function to compute training and validation errors for varied regularization parameter\n",
    "    \n",
    "    Inputs:\n",
    "        clf: classifier\n",
    "        xTrain: data to train on\n",
    "        yTrain: labels to training data\n",
    "        xTest: data to test on (validation set)\n",
    "        yTest: labels to validation set\n",
    "        alphas: array of various values of the regularization parameter\n",
    "        \n",
    "    Outputs:\n",
    "        train_errors: array of training errors corresponding to various reg_params\n",
    "        validation_errors: array of validation erros corresponding to various reg_params\n",
    "    '''\n",
    "    training_errors, val_errors = np.zeros(len(alphas)), np.zeros(len(alphas))\n",
    "    for i in range(len(alphas)):\n",
    "        clf.set_params(alpha=alphas[i])\n",
    "\n",
    "        # train and test our model\n",
    "        train_predictions = make_predictions(clf, xTrain, yTrain, xTrain)\n",
    "        val_predictions = make_predictions(clf, xTrain, yTrain, xTest)\n",
    "        # return accuracy\n",
    "        training_errors[i] = percentError(train_predictions, yTrain)\n",
    "        val_errors[i] = percentError(val_predictions, yTest)\n",
    "\n",
    "    plot_learning_curve(training_errors, val_errors, alphas, 'alpha')\n",
    "    return(training_errors, val_errors)"
   ]
  },
  {
   "cell_type": "code",
   "execution_count": 11,
   "metadata": {},
   "outputs": [],
   "source": [
    "def vary_learning_rates(clf, xTrain, yTrain, xTest, yTest, learning_rates):\n",
    "    '''\n",
    "    Function to compute training and validation errors for varied regularization parameter\n",
    "    \n",
    "    Inputs:\n",
    "        clf: classifier\n",
    "        xTrain: data to train on\n",
    "        yTrain: labels to training data\n",
    "        xTest: data to test on (validation set)\n",
    "        yTest: labels to validation set\n",
    "        learning_rates: array of various learning rate values\n",
    "        \n",
    "    Outputs:\n",
    "        train_errors: array of training errors corresponding to various learning rates\n",
    "        validation_errors: array of validation erros corresponding to various learning rates\n",
    "    '''\n",
    "    training_errors, val_errors = np.zeros(len(learning_rates)), np.zeros(len(learning_rates))\n",
    "    for i in range(len(learning_rates)):\n",
    "        clf.set_params(learning_rate=learning_rates[i])\n",
    "\n",
    "        # train and test our model\n",
    "        train_predictions = make_predictions(clf, xTrain, yTrain, xTrain)\n",
    "        val_predictions = make_predictions(clf, xTrain, yTrain, xTest)\n",
    "        # return accuracy\n",
    "        training_errors[i] = percentError(train_predictions, yTrain)\n",
    "        val_errors[i] = percentError(val_predictions, yTest)\n",
    "\n",
    "    plot_learning_curve(training_errors, val_errors, learning_rates, 'Learning Rate')\n",
    "    return(training_errors, val_errors)"
   ]
  },
  {
   "cell_type": "code",
   "execution_count": 12,
   "metadata": {},
   "outputs": [],
   "source": [
    "def ridgeReg(xTrain, yTrain, xTest):\n",
    "    '''\n",
    "    Function to perform ridge regression. \n",
    "    \n",
    "    Inputs:\n",
    "        xTrain: data to train on\n",
    "        yTrain: labels of the training data\n",
    "        xTest: data to predict on\n",
    "        \n",
    "    Outputs:\n",
    "        predictions: predicted labels of the data\n",
    "    '''\n",
    "    cutoff = 0.5\n",
    "    \n",
    "    ridge = Ridge(alpha = 200)\n",
    "    ridge.fit(xTrain, yTrain)\n",
    "    predictions = ridge.predict(xTest)\n",
    "    predictions[predictions > cutoff] = 1\n",
    "    predictions[predictions < cutoff] = 0\n",
    "    predictions = predictions.astype(int) # converts the labels to int or else the submission won't work\n",
    "    \n",
    "    return predictions"
   ]
  },
  {
   "cell_type": "code",
   "execution_count": 49,
   "metadata": {},
   "outputs": [],
   "source": [
    "def percentError(yPred, yTrue):\n",
    "    '''\n",
    "    Calculates the percent error between two given label sets\n",
    "    \n",
    "    Inputs:\n",
    "        yPred: predicted labels\n",
    "        yTrue: actual labels\n",
    "    \n",
    "    Outputs:\n",
    "        error: float of the number of mismatches divided by total length\n",
    "    '''     \n",
    "    return 1.0-np.sum(np.equal(yPred, yTrue))/len(yTrue)"
   ]
  },
  {
   "cell_type": "code",
   "execution_count": 16,
   "metadata": {},
   "outputs": [
    {
     "name": "stdout",
     "output_type": "stream",
     "text": [
      "Gradient Boost Error: 0.1985\n"
     ]
    }
   ],
   "source": [
    "# testing Gradient Boost    \n",
    "gbclf = GradientBoostingClassifier()\n",
    "gb = make_predictions(gbclf, trainX, trainY, testX)\n",
    "print(\"Gradient Boost Error:\", percentError(gb, testY))"
   ]
  },
  {
   "cell_type": "code",
   "execution_count": 17,
   "metadata": {},
   "outputs": [
    {
     "name": "stdout",
     "output_type": "stream",
     "text": [
      "MLP Error: 0.15075000000000005\n"
     ]
    }
   ],
   "source": [
    "# testing MLPClassifier, this is bad but I feel like it should be better\n",
    "mlpclf = MLPClassifier(activation = 'logistic')\n",
    "mlp = make_predictions(mlpclf, trainX, trainY, testX)\n",
    "print(\"MLP Error:\", percentError(mlp, testY))"
   ]
  },
  {
   "cell_type": "code",
   "execution_count": 18,
   "metadata": {},
   "outputs": [
    {
     "name": "stdout",
     "output_type": "stream",
     "text": [
      "Logistic Error: 0.15200000000000002\n"
     ]
    }
   ],
   "source": [
    "# submission: logReg\n",
    "logclf = LogisticRegression()\n",
    "log = make_predictions(logclf, trainX, trainY, testX)\n",
    "print(\"Logistic Error:\", percentError(log, testY))"
   ]
  },
  {
   "cell_type": "code",
   "execution_count": 19,
   "metadata": {},
   "outputs": [
    {
     "name": "stdout",
     "output_type": "stream",
     "text": [
      "Passive Aggressive Classifier Error: 0.16700000000000004\n"
     ]
    }
   ],
   "source": [
    "# testing PassiveAggresiveClassifier\n",
    "paclf = PassiveAggressiveClassifier(max_iter=1000)\n",
    "pa = make_predictions(paclf, trainX, trainY, testX)\n",
    "print(\"Passive Aggressive Classifier Error:\", percentError(pa, testY))"
   ]
  },
  {
   "cell_type": "code",
   "execution_count": 20,
   "metadata": {},
   "outputs": [
    {
     "name": "stdout",
     "output_type": "stream",
     "text": [
      "Ridge Classifier Error: 0.15100000000000002\n"
     ]
    },
    {
     "data": {
      "image/png": "[encoded data removed]",
      "text/plain": [
       "<matplotlib.figure.Figure at 0x18b80a008d0>"
      ]
     },
     "metadata": {},
     "output_type": "display_data"
    },
    {
     "data": {
      "text/plain": [
       "(array([0.1255   , 0.1258125, 0.1258125, 0.12525  , 0.125875 , 0.126375 ,\n",
       "        0.1276875, 0.12775  , 0.1279375, 0.1286875, 0.1291875, 0.12975  ,\n",
       "        0.1301875, 0.1315625, 0.1318125, 0.1325   , 0.1333125, 0.1336875,\n",
       "        0.1341875, 0.1345   , 0.1349375, 0.13575  , 0.136375 , 0.1370625,\n",
       "        0.1371875, 0.137625 , 0.138125 , 0.1385   , 0.1390625, 0.139625 ]),\n",
       " array([0.1525 , 0.151  , 0.15   , 0.1475 , 0.14675, 0.14825, 0.14925,\n",
       "        0.1475 , 0.14825, 0.14825, 0.14975, 0.1485 , 0.14875, 0.14825,\n",
       "        0.1495 , 0.1505 , 0.15175, 0.15225, 0.15175, 0.15225, 0.153  ,\n",
       "        0.1525 , 0.1525 , 0.15225, 0.15225, 0.15325, 0.1535 , 0.15425,\n",
       "        0.15475, 0.15525]))"
      ]
     },
     "execution_count": 20,
     "metadata": {},
     "output_type": "execute_result"
    }
   ],
   "source": [
    "# testing and plotting RidgeClassifier for various alphas\n",
    "alphas = np.linspace(0.01, 10, 30)\n",
    "ridgeclf = RidgeClassifier(alpha=0.35448276)\n",
    "ridge = make_predictions(ridgeclf, trainX, trainY, testX)\n",
    "print(\"Ridge Classifier Error:\", percentError(ridge, testY))\n",
    "vary_alphas(ridgeclf, trainX, trainY, testX, testY, alphas)"
   ]
  },
  {
   "cell_type": "code",
   "execution_count": 21,
   "metadata": {},
   "outputs": [
    {
     "name": "stdout",
     "output_type": "stream",
     "text": [
      "Adaboost Classifier Error: 0.1985\n"
     ]
    },
    {
     "data": {
      "image/png": "[encoded data removed]",
      "text/plain": [
       "<matplotlib.figure.Figure at 0x18b859c5080>"
      ]
     },
     "metadata": {},
     "output_type": "display_data"
    },
    {
     "data": {
      "text/plain": [
       "(array([0.363875 , 0.209875 , 0.1963125, 0.1941875, 0.2010625, 0.226875 ,\n",
       "        0.5985625, 0.5040625, 0.5040625, 0.5040625, 0.5040625, 0.5040625,\n",
       "        0.59925  , 0.5040625, 0.5040625, 0.5040625, 0.5040625, 0.5040625,\n",
       "        0.5040625, 0.5040625, 0.5040625, 0.5040625, 0.5040625, 0.5040625,\n",
       "        0.5040625, 0.5040625, 0.5040625, 0.5040625, 0.5040625, 0.59925  ]),\n",
       " array([0.3705 , 0.20925, 0.19825, 0.199  , 0.202  , 0.23225, 0.593  ,\n",
       "        0.5105 , 0.5105 , 0.5105 , 0.5105 , 0.5105 , 0.594  , 0.5105 ,\n",
       "        0.5105 , 0.5105 , 0.5105 , 0.5105 , 0.5105 , 0.5105 , 0.5105 ,\n",
       "        0.5105 , 0.5105 , 0.5105 , 0.5105 , 0.5105 , 0.5105 , 0.5105 ,\n",
       "        0.5105 , 0.594  ]))"
      ]
     },
     "execution_count": 21,
     "metadata": {},
     "output_type": "execute_result"
    }
   ],
   "source": [
    "# testing and plotting AdaBoostClassifier for various steps\n",
    "steps = np.linspace(0.01, 10, 30)\n",
    "abclf = AdaBoostClassifier()\n",
    "ab = make_predictions(abclf, trainX, trainY, testX)\n",
    "print(\"Adaboost Classifier Error:\", percentError(ab, testY))\n",
    "vary_learning_rates(abclf, trainX, trainY, testX, testY, steps)"
   ]
  },
  {
   "cell_type": "code",
   "execution_count": 22,
   "metadata": {},
   "outputs": [
    {
     "name": "stdout",
     "output_type": "stream",
     "text": [
      "Random Forest Error: 0.21399999999999997\n"
     ]
    }
   ],
   "source": [
    "rfclf = RandomForestClassifier()\n",
    "rf = make_predictions(rfclf, trainX, trainY, testX)\n",
    "print(\"Random Forest Error:\", percentError(rf, testY))"
   ]
  },
  {
   "cell_type": "code",
   "execution_count": 24,
   "metadata": {},
   "outputs": [
    {
     "name": "stdout",
     "output_type": "stream",
     "text": [
      "KNN Error: 0.32825000000000004\n"
     ]
    }
   ],
   "source": [
    "knclf = KNeighborsClassifier()\n",
    "kn = make_predictions(knclf, trainX, trainY, testX)\n",
    "print(\"KNN Error:\", percentError(kn, testY))"
   ]
  },
  {
   "cell_type": "code",
   "execution_count": 25,
   "metadata": {},
   "outputs": [
    {
     "name": "stdout",
     "output_type": "stream",
     "text": [
      "GaussianNB Error: 0.21725000000000005\n"
     ]
    }
   ],
   "source": [
    "gnbclf = GaussianNB()\n",
    "gnb = make_predictions(gnbclf, trainX, trainY, testX)\n",
    "print(\"GaussianNB Error:\", percentError(gnb, testY))"
   ]
  },
  {
   "cell_type": "code",
   "execution_count": 26,
   "metadata": {},
   "outputs": [
    {
     "name": "stdout",
     "output_type": "stream",
     "text": [
      "Decision Tree Error: 0.2865\n"
     ]
    }
   ],
   "source": [
    "dtclf = DecisionTreeClassifier()\n",
    "dt = make_predictions(dtclf, trainX, trainY, testX)\n",
    "print(\"Decision Tree Error:\", percentError(dt, testY))"
   ]
  },
  {
   "cell_type": "code",
   "execution_count": 116,
   "metadata": {},
   "outputs": [
    {
     "name": "stdout",
     "output_type": "stream",
     "text": [
      "Extra Trees Error: 0.15300000000000002\n"
     ]
    }
   ],
   "source": [
    "etclf = ExtraTreesClassifier(350)\n",
    "et = make_predictions(etclf, trainX, trainY, testX)\n",
    "print(\"Extra Trees Error:\", percentError(et, testY))\n",
    "# Extra Trees Error: 0.15874999999999995 for 200\n",
    "# 0.14500000000000002 for 300\n",
    "# 0.15300000000000002 for 350\n",
    "# 0.14849999999999997 for 400\n",
    "# 0.14575000000000005 for 500\n",
    "# 0.14400000000000002 for 1000\n",
    "# Extra Trees Error: 0.15600000000000003 for 300 with unnormalized data"
   ]
  },
  {
   "cell_type": "code",
   "execution_count": 113,
   "metadata": {},
   "outputs": [],
   "source": [
    "# etclf = ExtraTreesClassifier(1000)\n",
    "# # et = make_predictions(etclf, trainX, trainY, testX)\n",
    "# # print(\"Extra Trees Error:\", percentError(et, testY))\n",
    "# et = make_predictions(etclf, X_train_n, y_train, X_test_n)\n",
    "# save_data(et)"
   ]
  },
  {
   "cell_type": "code",
   "execution_count": 87,
   "metadata": {},
   "outputs": [
    {
     "name": "stdout",
     "output_type": "stream",
     "text": [
      "_________________________________________________________________\n",
      "Layer (type)                 Output Shape              Param #   \n",
      "=================================================================\n",
      "dense_68 (Dense)             (None, 100)               100100    \n",
      "_________________________________________________________________\n",
      "activation_68 (Activation)   (None, 100)               0         \n",
      "_________________________________________________________________\n",
      "dropout_43 (Dropout)         (None, 100)               0         \n",
      "_________________________________________________________________\n",
      "dense_69 (Dense)             (None, 2)                 202       \n",
      "_________________________________________________________________\n",
      "activation_69 (Activation)   (None, 2)                 0         \n",
      "=================================================================\n",
      "Total params: 100,302\n",
      "Trainable params: 100,302\n",
      "Non-trainable params: 0\n",
      "_________________________________________________________________\n",
      "Epoch 1/10\n",
      "20000/20000 [==============================] - 6s 315us/step - loss: 0.3994 - acc: 0.8292\n",
      "Epoch 2/10\n",
      "20000/20000 [==============================] - 4s 205us/step - loss: 0.3026 - acc: 0.8709\n",
      "Epoch 3/10\n",
      "20000/20000 [==============================] - 4s 197us/step - loss: 0.2461 - acc: 0.8999\n",
      "Epoch 4/10\n",
      "20000/20000 [==============================] - 4s 199us/step - loss: 0.1799 - acc: 0.9320\n",
      "Epoch 5/10\n",
      "20000/20000 [==============================] - 4s 195us/step - loss: 0.1174 - acc: 0.9630\n",
      "Epoch 6/10\n",
      "20000/20000 [==============================] - 5s 226us/step - loss: 0.0700 - acc: 0.9823\n",
      "Epoch 7/10\n",
      "20000/20000 [==============================] - 5s 243us/step - loss: 0.0410 - acc: 0.9929\n",
      "Epoch 8/10\n",
      "20000/20000 [==============================] - 5s 269us/step - loss: 0.0233 - acc: 0.9974\n",
      "Epoch 9/10\n",
      "20000/20000 [==============================] - 5s 238us/step - loss: 0.0130 - acc: 0.9988\n",
      "Epoch 10/10\n",
      "20000/20000 [==============================] - 5s 228us/step - loss: 0.0074 - acc: 0.9996\n",
      "Test score: 0.22008784472942353\n",
      "Test accuracy: 0.96475\n"
     ]
    }
   ],
   "source": [
    "from keras.models import Sequential\n",
    "from keras.layers import Dense, Activation, Dropout\n",
    "from keras.layers import Conv2D, MaxPooling2D, Flatten, BatchNormalization\n",
    "from keras import regularizers\n",
    "\n",
    "from keras.utils import to_categorical\n",
    "y_binary = to_categorical(y_train)\n",
    "\n",
    "rate = 0.0\n",
    "model = Sequential()\n",
    "model.add(Dense(100, input_shape=(1000,)))\n",
    "model.add(Activation('relu'))\n",
    "model.add(Dropout(rate))\n",
    "\n",
    "# output layer\n",
    "model.add(Dense(2))\n",
    "model.add(Activation('softmax'))\n",
    "\n",
    "## Printing a summary of the layers and weights in your model\n",
    "model.summary()\n",
    "\n",
    "model.compile(loss='binary_crossentropy', optimizer='Adam', metrics=['accuracy'])\n",
    "\n",
    "fit = model.fit(X_train, y_binary, batch_size=32, epochs=10,\n",
    "    verbose=1)\n",
    "\n",
    "testY_binary = to_categorical(testY)\n",
    "\n",
    "## Printing the accuracy of our model, according to the loss function specified in model.compile above\n",
    "score = model.evaluate(testX, testY_binary, verbose=0)\n",
    "print('Test score:', score[0])\n",
    "print('Test accuracy:', score[1])"
   ]
  },
  {
   "cell_type": "code",
   "execution_count": 86,
   "metadata": {},
   "outputs": [],
   "source": [
    "seq_binarypredictions = model.predict(X_test)\n",
    "seq_predictions = []\n",
    "for i in seq_binarypredictions:\n",
    "    if i[0] > i[1]:\n",
    "        seq_predictions.append(0)\n",
    "    elif i[0] < i[1]:\n",
    "        seq_predictions.append(1)\n",
    "    else:\n",
    "        print(i[0], i[1], \"are equal\")\n",
    "save_data(seq_predictions)"
   ]
  },
  {
   "cell_type": "code",
   "execution_count": null,
   "metadata": {},
   "outputs": [],
   "source": [
    "# acc: 0.9944\n",
    "# Test score: 0.7648572138100862\n",
    "# Test accuracy: 0.84225\n",
    "    \n",
    "# acc: 0.9934\n",
    "# Test score: 0.8508109339475631\n",
    "# Test accuracy: 0.83675\n",
    "\n",
    "# acc: 0.9999\n",
    "# Test score: 1.0047595951855182\n",
    "# Test accuracy: 0.844\n",
    "    \n",
    "# acc: 0.9997\n",
    "# Test score: 0.9556885951161385\n",
    "# Test accuracy: 0.84225\n",
    "    \n",
    "# acc: 0.9249\n",
    "# Test score: 0.3752474172115326\n",
    "# Test accuracy: 0.84875\n",
    "    \n",
    "# acc: 0.9849\n",
    "# Test score: 0.43019275814294816\n",
    "# Test accuracy: 0.8465\n",
    "    \n",
    "# acc: 0.9836\n",
    "# Test score: 0.41660338413715364\n",
    "# Test accuracy: 0.8445"
   ]
  },
  {
   "cell_type": "code",
   "execution_count": 14,
   "metadata": {},
   "outputs": [],
   "source": [
    "# save to a file\n",
    "#     save_data(predictions)"
   ]
  },
  {
   "cell_type": "code",
   "execution_count": null,
   "metadata": {},
   "outputs": [],
   "source": [
    "if __name__ == \"__main__\":    \n",
    "    main()"
   ]
  },
  {
   "cell_type": "code",
   "execution_count": null,
   "metadata": {},
   "outputs": [],
   "source": [
    "'''\n",
    "Tested clfs:\n",
    "clf = SGDClassifier(loss=\"log\", penalty=\"l2\")\n",
    "Score: 0.82240\n",
    "\n",
    "clf = RandomForestClassifier(n_estimators=5000, criterion = 'gini')\n",
    "Score: 0.82860\n",
    "\n",
    "model = Sequential()\n",
    "Score: 0.83980\n",
    "\n",
    "clf = LogisticRegression()\n",
    "Score: 0.85019\n",
    "\n",
    "'''"
   ]
  }
 ],
 "metadata": {
  "kernelspec": {
   "display_name": "Python 3",
   "language": "python",
   "name": "python3"
  },
  "language_info": {
   "codemirror_mode": {
    "name": "ipython",
    "version": 3
   },
   "file_extension": ".py",
   "mimetype": "text/x-python",
   "name": "python",
   "nbconvert_exporter": "python",
   "pygments_lexer": "ipython3",
   "version": "3.6.4"
  }
 },
 "nbformat": 4,
 "nbformat_minor": 2
}
