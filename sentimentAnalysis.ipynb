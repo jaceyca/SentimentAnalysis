{
 "cells": [
  {
   "cell_type": "code",
   "execution_count": 129,
   "metadata": {
    "collapsed": true
   },
   "outputs": [],
   "source": [
    "import numpy as np\n",
    "import pathlib\n",
    "from datetime import datetime\n",
    "from sklearn.linear_model import SGDClassifier\n",
    "from sklearn.linear_model import RidgeClassifier\n",
    "from sklearn.linear_model import Ridge\n",
    "from sklearn.linear_model import PassiveAggressiveClassifier\n",
    "from sklearn import tree\n",
    "from sklearn.ensemble import RandomForestClassifier\n",
    "from sklearn.ensemble import GradientBoostingClassifier\n",
    "from sklearn.ensemble import AdaBoostClassifier\n",
    "from sklearn.neural_network import MLPClassifier\n",
    "from sklearn.model_selection import ShuffleSplit\n",
    "from sklearn.preprocessing import Normalizer\n",
    "import matplotlib.pyplot as plt"
   ]
  },
  {
   "cell_type": "code",
   "execution_count": 130,
   "metadata": {
    "collapsed": true
   },
   "outputs": [],
   "source": [
    "def load_data(filename, train=True):\n",
    "    \"\"\"\n",
    "    Function loads data stored in the file filename and returns it as a numpy ndarray.\n",
    "    \n",
    "    Inputs:\n",
    "        filename: given as a string\n",
    "        (optional) train: used to determine whether this is the training or test set\n",
    "        \n",
    "    Outputs:\n",
    "        Data contained in the file, returned as a numpy ndarray\n",
    "    \"\"\"\n",
    "    X = []\n",
    "    y = []\n",
    "    with open(filename) as f:\n",
    "        for line in f:\n",
    "            if (train):\n",
    "                # remove \\n, split on space, separate into label and weights\n",
    "                X.append(line.strip().split(' ')[1:])\n",
    "                y.append(line.strip().split(' ')[0])\n",
    "            else:\n",
    "                X.append(line.strip().split(' '))\n",
    "                \n",
    "    # convert to np, cast to int, and remove the headers\n",
    "    X = np.asarray(X[1:]).astype(int)\n",
    "    if (train):\n",
    "        y = np.asarray(y[1:]).astype(int)\n",
    "        \n",
    "    return X, y"
   ]
  },
  {
   "cell_type": "code",
   "execution_count": 131,
   "metadata": {
    "collapsed": true
   },
   "outputs": [],
   "source": [
    "def split_data(x_train, y_train):\n",
    "    '''\n",
    "    Function for cross validiation. \n",
    "    \n",
    "    Inputs: \n",
    "        x_train: training data points\n",
    "        y_train: training labels\n",
    "        \n",
    "    Outputs:\n",
    "        trainX: randomized 4/5 of given data points\n",
    "        trainY: corresponding labels\n",
    "        testX: randomized 1/5 of given data points\n",
    "        testY: corresponding lables\n",
    "    '''\n",
    "    dataSplit = ShuffleSplit(n_splits = 1, test_size = 0.2)\n",
    "    for train, test in dataSplit.split(x_train, y_train):\n",
    "        return x_train[train], y_train[train], x_train[test], y_train[test] \n",
    "       "
   ]
  },
  {
   "cell_type": "code",
   "execution_count": 132,
   "metadata": {
    "collapsed": true
   },
   "outputs": [],
   "source": [
    "def make_predictions(clf, X, y, test):\n",
    "    '''\n",
    "    Function to train and test our classifier\n",
    "    \n",
    "    Inputs:\n",
    "        clf: classifier\n",
    "        X: data points\n",
    "        y: labels\n",
    "        test: test set\n",
    "    \n",
    "    Outputs:\n",
    "        predictions: predictions from running the clf on the test set\n",
    "    '''\n",
    "    clf.fit(X, y)\n",
    "    predictions = clf.predict(test)\n",
    "    \n",
    "    return predictions"
   ]
  },
  {
   "cell_type": "code",
   "execution_count": 133,
   "metadata": {
    "collapsed": true
   },
   "outputs": [],
   "source": [
    "def save_data(data, filename=\"%s.txt\" % datetime.today().strftime(\"%X\").replace(\":\", \"\")):\n",
    "    '''\n",
    "    Function to save the predictions by the classifier\n",
    "    \n",
    "    Inputs: predictions, (optional) filename\n",
    "        If filename isn't specified, then it just uses the current time\n",
    "    \n",
    "    Outputs: Does not return anything\n",
    "        Writes the submisssion to a textfile that should have the same format as the sample_submission.txt\n",
    "    '''\n",
    "    \n",
    "    # Creates a new submissions folder if one doesn't exist\n",
    "    pathlib.Path('submissions').mkdir(parents=True, exist_ok=True)\n",
    "    with open(\"submissions\\\\%s\" % filename, \"w\") as f:\n",
    "        f.write(\"Id,Prediction\\n\")\n",
    "        for Id, prediction in enumerate(data, 1):\n",
    "            string = str(Id) + ',' + str(prediction) + '\\n'\n",
    "            f.write(string)\n",
    "        "
   ]
  },
  {
   "cell_type": "code",
   "execution_count": 134,
   "metadata": {
    "collapsed": true
   },
   "outputs": [],
   "source": [
    "def plot_learning_curve(train_errors, validation_errors, vary_param, param_label):\n",
    "    '''\n",
    "    Function to plot learning curve for different degrees of regularization\n",
    "\n",
    "    Inputs:\n",
    "        train_errors: array of training errors corresponding to various reg_params\n",
    "        validation_errors: array of validation erros corresponding to various reg_params\n",
    "        vary_params: array of various values of the varied parameter\n",
    "        param_label: string input for regularization parameter being varied, e.g. alpha, learning rate\n",
    "    '''\n",
    "    plt.figure()\n",
    "    plt.plot(vary_param, train_errors, c = 'green', label='Training Error')\n",
    "    plt.plot(vary_param, validation_errors, c = 'red', label='Validation Error')\n",
    "    plt.scatter(vary_param, train_errors, c = 'green')\n",
    "    plt.scatter(vary_param, validation_errors, c = 'red')\n",
    "    plt.xlabel(param_label)\n",
    "    plt.ylabel('Error')\n",
    "    plt.legend()\n",
    "    plt.show()"
   ]
  },
  {
   "cell_type": "code",
   "execution_count": 135,
   "metadata": {
    "collapsed": true
   },
   "outputs": [],
   "source": [
    "def vary_alphas(clf, xTrain, yTrain, xTest, yTest, alphas):\n",
    "    '''\n",
    "    Function to compute training and validation errors for varied regularization parameter\n",
    "    \n",
    "    Inputs:\n",
    "        clf: classifier\n",
    "        xTrain: data to train on\n",
    "        yTrain: labels to training data\n",
    "        xTest: data to test on (validation set)\n",
    "        yTest: labels to validation set\n",
    "        alphas: array of various values of the regularization parameter\n",
    "        \n",
    "    Outputs:\n",
    "        train_errors: array of training errors corresponding to various reg_params\n",
    "        validation_errors: array of validation erros corresponding to various reg_params\n",
    "    '''\n",
    "    training_errors, val_errors = np.zeros(len(alphas)), np.zeros(len(alphas))\n",
    "    for i in range(len(alphas)):\n",
    "        clf.set_params(alpha=alphas[i])\n",
    "\n",
    "        # train and test our model\n",
    "        train_predictions = make_predictions(clf, xTrain, yTrain, xTrain)\n",
    "        val_predictions = make_predictions(clf, xTrain, yTrain, xTest)\n",
    "        # return accuracy\n",
    "        training_errors[i] = percentError(train_predictions, yTrain)\n",
    "        val_errors[i] = percentError(val_predictions, yTest)\n",
    "\n",
    "    plot_learning_curve(training_errors, val_errors, alphas, 'alpha')\n",
    "    return(training_errors, val_errors)"
   ]
  },
  {
   "cell_type": "code",
   "execution_count": 136,
   "metadata": {
    "collapsed": true
   },
   "outputs": [],
   "source": [
    "def vary_learning_rates(clf, xTrain, yTrain, xTest, yTest, learning_rates):\n",
    "    '''\n",
    "    Function to compute training and validation errors for varied regularization parameter\n",
    "    \n",
    "    Inputs:\n",
    "        clf: classifier\n",
    "        xTrain: data to train on\n",
    "        yTrain: labels to training data\n",
    "        xTest: data to test on (validation set)\n",
    "        yTest: labels to validation set\n",
    "        learning_rates: array of various learning rate values\n",
    "        \n",
    "    Outputs:\n",
    "        train_errors: array of training errors corresponding to various learning rates\n",
    "        validation_errors: array of validation erros corresponding to various learning rates\n",
    "    '''\n",
    "    training_errors, val_errors = np.zeros(len(learning_rates)), np.zeros(len(learning_rates))\n",
    "    for i in range(len(learning_rates)):\n",
    "        clf.set_params(learning_rate=learning_rates[i])\n",
    "\n",
    "        # train and test our model\n",
    "        train_predictions = make_predictions(clf, xTrain, yTrain, xTrain)\n",
    "        val_predictions = make_predictions(clf, xTrain, yTrain, xTest)\n",
    "        # return accuracy\n",
    "        training_errors[i] = percentError(train_predictions, yTrain)\n",
    "        val_errors[i] = percentError(val_predictions, yTest)\n",
    "\n",
    "    plot_learning_curve(training_errors, val_errors, learning_rates, 'Learning Rate')\n",
    "    return(training_errors, val_errors)"
   ]
  },
  {
   "cell_type": "code",
   "execution_count": 137,
   "metadata": {
    "collapsed": true
   },
   "outputs": [],
   "source": [
    "def ridgeReg(xTrain, yTrain, xTest):\n",
    "    '''\n",
    "    Function to perform ridge regression. \n",
    "    \n",
    "    Inputs:\n",
    "        xTrain: data to train on\n",
    "        yTrain: labels of the training data\n",
    "        xTest: data to predict on\n",
    "        \n",
    "    Outputs:\n",
    "        predictions: predicted labels of the data\n",
    "    '''\n",
    "    cutoff = 0.5\n",
    "    \n",
    "    ridge = Ridge(alpha = 200)\n",
    "    ridge.fit(xTrain, yTrain)\n",
    "    predictions = ridge.predict(xTest)\n",
    "    predictions[predictions > cutoff] = 1\n",
    "    predictions[predictions < cutoff] = 0\n",
    "    ridgePred = ridgePred.astype(int) # what is this line supposed to do?\n",
    "    \n",
    "    return predictions"
   ]
  },
  {
   "cell_type": "code",
   "execution_count": 138,
   "metadata": {
    "collapsed": true
   },
   "outputs": [],
   "source": [
    "def percentError(yPred, yTrue):\n",
    "    '''\n",
    "    Calculates the percent error between two given label sets\n",
    "    \n",
    "    Inputs:\n",
    "        yTrue: actual labels\n",
    "    \n",
    "    Outputs:\n",
    "        error: float of the number of mismatches divided by total length\n",
    "    '''     \n",
    "    return 1-np.sum(np.equal(yPred, yTrue))/len(yTrue)"
   ]
  },
  {
   "cell_type": "code",
   "execution_count": 139,
   "metadata": {
    "collapsed": true
   },
   "outputs": [],
   "source": [
    "def gradientBoost(xTrain, yTrain, xTest):\n",
    "    '''\n",
    "    Function to perform gradient boost classification. \n",
    "    \n",
    "    Inputs:\n",
    "        xTrain: data to train on\n",
    "        yTrain: labels of the training data\n",
    "        xTest: data to predict on\n",
    "        \n",
    "    Outputs:\n",
    "        predictions: predicted labels of the data\n",
    "    '''\n",
    "    clf = GradientBoostingClassifier()\n",
    "    clf.fit(xTrain, yTrain)\n",
    "    \n",
    "    predictions = clf.predict(xTest)\n",
    "    return predictions"
   ]
  },
  {
   "cell_type": "code",
   "execution_count": 140,
   "metadata": {
    "collapsed": true
   },
   "outputs": [],
   "source": [
    "def normalization(X_train, X_test):\n",
    "    '''\n",
    "    Function to normalize training and test data\n",
    "\n",
    "    Inputs:\n",
    "        X_train: training set data points\n",
    "        X_test: test set data points\n",
    "\n",
    "    Outputs:\n",
    "        train_norm: normalized training set data points\n",
    "        test_norm: normalized test set data points\n",
    "    '''\n",
    "    normalizer = Normalizer().fit(X_train)\n",
    "    train_norm = normalizer.transform(X_train)\n",
    "    test_norm = normalizer.transform(X_test)\n",
    "\n",
    "    return (train_norm, test_norm)"
   ]
  },
  {
   "cell_type": "code",
   "execution_count": 141,
   "metadata": {
    "collapsed": true
   },
   "outputs": [],
   "source": [
    "def MLP(xTrain, yTrain, xTest):\n",
    "    '''\n",
    "    Function to perform multiple linear perceptron classification. \n",
    "    \n",
    "    Inputs:\n",
    "        xTrain: data to train on\n",
    "        yTrain: labels of the training data\n",
    "        xTest: data to predict on\n",
    "        \n",
    "    Outputs:\n",
    "        predictions: predicted labels of the data\n",
    "    '''\n",
    "    mlp = MLPClassifier()\n",
    "    mlp.fit(xTrain, yTrain)\n",
    "    predictions = mlp.predict(xTest)\n",
    "    predictions = predictions.astype(int)\n",
    "    \n",
    "    return predictions"
   ]
  },
  {
   "cell_type": "code",
   "execution_count": 142,
   "metadata": {
    "collapsed": true
   },
   "outputs": [],
   "source": [
    "def main():\n",
    "    # load the data\n",
    "    X_train, y_train = load_data(\"training_data.txt\")\n",
    "    X_test, _ = load_data(\"test_data.txt\", False)\n",
    "\n",
    "    # normalize training and test data\n",
    "    X_train_n, X_test_n = normalization(X_train, X_test)    \n",
    "    \n",
    "    # split the data in to training and testing so we can test ourselves\n",
    "    trainX, trainY, testX, testY = split_data(X_train_n, y_train)\n",
    "\n",
    "#     # testing ridge regression and the percent error function\n",
    "#     ridgePred = ridgeReg(trainX, trainY, testX)\n",
    "#     print(\"Ridge Regression Error:\")\n",
    "#     print(percentError(ridgePred, testY))\n",
    "\n",
    "    # testing Gradient Boost\n",
    "    gradBoostRes = gradientBoost(trainX, trainY, testX)\n",
    "    print(\"Gradient Boost Error:\")\n",
    "    print(percentError(gradBoostRes, testY))\n",
    "    \n",
    "    # testing MLPClassifier\n",
    "    mlpPred = MLP(trainX, trainY, testX)\n",
    "    print(\"MLP Error:\")\n",
    "    print(percentError(mlpPred, testY))\n",
    "    \n",
    "    # testing PassiveAggresiveClassifier\n",
    "    passiveAggClassclf = PassiveAggressiveClassifier(max_iter=1000)\n",
    "    print(\"Passive Aggressive Classifier Error:\")\n",
    "    print(percentError(make_predictions(passiveAggClassclf, trainX, trainY, testX), testY))\n",
    "    \n",
    "    # testing and plotting RidgeClassifier for various alphas\n",
    "    alphas = np.linspace(0.01, 10, 30)\n",
    "    ridgeClassclf = RidgeClassifier()\n",
    "    print(\"Ridge Classifier Error:\")\n",
    "    print(percentError(make_predictions(ridgeClassclf, trainX, trainY, testX), testY))\n",
    "    vary_alphas(ridgeClassclf, trainX, trainY, testX, testY, alphas)\n",
    "   \n",
    "    # testing and plotting AdaBoostClassifier for various steps\n",
    "    steps = np.linspace(0.01, 10, 30)\n",
    "    ABClassclf = AdaBoostClassifier()\n",
    "    print(\"Adaboost Classifier Error:\")\n",
    "    print(percentError(make_predictions(ABClassclf, trainX, trainY, testX), testY))\n",
    "    vary_learning_rates(ABClassclf, trainX, trainY, testX, testY, steps)\n",
    "    \n",
    "#    # pick our model\n",
    "#    clf = RandomForestClassifier(n_estimators=5000, criterion = 'gini')\n",
    "#     # train and test our model\n",
    "#     predictions = make_predictions(clf, X_train, y_train, X_test)\n",
    "    clf = RidgeClassifier(alpha=0.35448276)\n",
    "    predictions = make_predictions(clf, X_train, y_train, X_test)\n",
    "\n",
    "    # save to a file\n",
    "    save_data(predictions)"
   ]
  },
  {
   "cell_type": "code",
   "execution_count": 143,
   "metadata": {},
   "outputs": [
    {
     "name": "stdout",
     "output_type": "stream",
     "text": [
      "Gradient Boost Error:\n",
      "0.20475\n",
      "MLP Error:\n",
      "0.156\n",
      "Passive Aggressive Classifier Error:\n",
      "0.155\n",
      "Ridge Classifier Error:\n",
      "0.1455\n"
     ]
    },
    {
     "data": {
      "image/png": "[encoded data removed]",
      "text/plain": [
       "<matplotlib.figure.Figure at 0x1a11cee748>"
      ]
     },
     "metadata": {},
     "output_type": "display_data"
    },
    {
     "name": "stdout",
     "output_type": "stream",
     "text": [
      "Adaboost Classifier Error:\n",
      "0.20725\n"
     ]
    },
    {
     "data": {
      "image/png": "[encoded data removed]",
      "text/plain": [
       "<matplotlib.figure.Figure at 0x1a11ce8a20>"
      ]
     },
     "metadata": {},
     "output_type": "display_data"
    }
   ],
   "source": [
    "if __name__ == \"__main__\":\n",
    "    main()"
   ]
  },
  {
   "cell_type": "code",
   "execution_count": 101,
   "metadata": {},
   "outputs": [
    {
     "data": {
      "text/plain": [
       "'\\nTested clfs:\\nclf = SGDClassifier(loss=\"log\", penalty=\"l2\")\\nScore: 0.82240\\n\\nclf = RandomForestClassifier(n_estimators=5000, criterion = \\'gini\\')\\nScore: 0.82860\\n\\n'"
      ]
     },
     "execution_count": 101,
     "metadata": {},
     "output_type": "execute_result"
    }
   ],
   "source": [
    "'''\n",
    "Tested clfs:\n",
    "clf = SGDClassifier(loss=\"log\", penalty=\"l2\")\n",
    "Score: 0.82240\n",
    "\n",
    "clf = RandomForestClassifier(n_estimators=5000, criterion = 'gini')\n",
    "Score: 0.82860\n",
    "\n",
    "'''"
   ]
  }
 ],
 "metadata": {
  "kernelspec": {
   "display_name": "Python 3",
   "language": "python",
   "name": "python3"
  },
  "language_info": {
   "codemirror_mode": {
    "name": "ipython",
    "version": 3
   },
   "file_extension": ".py",
   "mimetype": "text/x-python",
   "name": "python",
   "nbconvert_exporter": "python",
   "pygments_lexer": "ipython3",
   "version": "3.6.3"
  }
 },
 "nbformat": 4,
 "nbformat_minor": 2
}
